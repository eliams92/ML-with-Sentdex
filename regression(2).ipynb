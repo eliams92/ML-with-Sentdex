{
 "cells": [
  {
   "cell_type": "code",
   "execution_count": 1,
   "id": "0be0c053",
   "metadata": {},
   "outputs": [],
   "source": [
    "import pandas as pd\n",
    "import quandl,math,datetime\n",
    "import pickle\n",
    "from matplotlib import pyplot as plt\n",
    "from matplotlib import style"
   ]
  },
  {
   "cell_type": "code",
   "execution_count": 2,
   "id": "b8917a8a",
   "metadata": {},
   "outputs": [],
   "source": [
    "df=quandl.get('BSE/BOM533171')"
   ]
  },
  {
   "cell_type": "code",
   "execution_count": 3,
   "id": "fccd4391",
   "metadata": {},
   "outputs": [
    {
     "data": {
      "text/html": [
       "<div>\n",
       "<style scoped>\n",
       "    .dataframe tbody tr th:only-of-type {\n",
       "        vertical-align: middle;\n",
       "    }\n",
       "\n",
       "    .dataframe tbody tr th {\n",
       "        vertical-align: top;\n",
       "    }\n",
       "\n",
       "    .dataframe thead th {\n",
       "        text-align: right;\n",
       "    }\n",
       "</style>\n",
       "<table border=\"1\" class=\"dataframe\">\n",
       "  <thead>\n",
       "    <tr style=\"text-align: right;\">\n",
       "      <th></th>\n",
       "      <th>Open</th>\n",
       "      <th>High</th>\n",
       "      <th>Low</th>\n",
       "      <th>Close</th>\n",
       "      <th>WAP</th>\n",
       "      <th>No. of Shares</th>\n",
       "      <th>No. of Trades</th>\n",
       "      <th>Total Turnover</th>\n",
       "      <th>Deliverable Quantity</th>\n",
       "      <th>% Deli. Qty to Traded Qty</th>\n",
       "      <th>Spread H-L</th>\n",
       "      <th>Spread C-O</th>\n",
       "    </tr>\n",
       "    <tr>\n",
       "      <th>Date</th>\n",
       "      <th></th>\n",
       "      <th></th>\n",
       "      <th></th>\n",
       "      <th></th>\n",
       "      <th></th>\n",
       "      <th></th>\n",
       "      <th></th>\n",
       "      <th></th>\n",
       "      <th></th>\n",
       "      <th></th>\n",
       "      <th></th>\n",
       "      <th></th>\n",
       "    </tr>\n",
       "  </thead>\n",
       "  <tbody>\n",
       "    <tr>\n",
       "      <th>2010-03-18</th>\n",
       "      <td>77.0</td>\n",
       "      <td>77.00</td>\n",
       "      <td>68.10</td>\n",
       "      <td>68.80</td>\n",
       "      <td>71.381343</td>\n",
       "      <td>28299084.0</td>\n",
       "      <td>82679.0</td>\n",
       "      <td>2.020027e+09</td>\n",
       "      <td>5279146.0</td>\n",
       "      <td>18.65</td>\n",
       "      <td>8.90</td>\n",
       "      <td>-8.20</td>\n",
       "    </tr>\n",
       "    <tr>\n",
       "      <th>2010-03-19</th>\n",
       "      <td>69.7</td>\n",
       "      <td>70.60</td>\n",
       "      <td>68.40</td>\n",
       "      <td>69.10</td>\n",
       "      <td>69.544990</td>\n",
       "      <td>4135689.0</td>\n",
       "      <td>15920.0</td>\n",
       "      <td>2.876165e+08</td>\n",
       "      <td>1378581.0</td>\n",
       "      <td>33.33</td>\n",
       "      <td>2.20</td>\n",
       "      <td>-0.60</td>\n",
       "    </tr>\n",
       "    <tr>\n",
       "      <th>2010-03-22</th>\n",
       "      <td>68.0</td>\n",
       "      <td>68.05</td>\n",
       "      <td>66.10</td>\n",
       "      <td>66.65</td>\n",
       "      <td>67.307760</td>\n",
       "      <td>1097433.0</td>\n",
       "      <td>4629.0</td>\n",
       "      <td>7.386576e+07</td>\n",
       "      <td>563231.0</td>\n",
       "      <td>51.32</td>\n",
       "      <td>1.95</td>\n",
       "      <td>-1.35</td>\n",
       "    </tr>\n",
       "    <tr>\n",
       "      <th>2010-03-23</th>\n",
       "      <td>67.5</td>\n",
       "      <td>69.25</td>\n",
       "      <td>66.75</td>\n",
       "      <td>68.55</td>\n",
       "      <td>67.894429</td>\n",
       "      <td>1493862.0</td>\n",
       "      <td>4856.0</td>\n",
       "      <td>1.014249e+08</td>\n",
       "      <td>780051.0</td>\n",
       "      <td>52.22</td>\n",
       "      <td>2.50</td>\n",
       "      <td>1.05</td>\n",
       "    </tr>\n",
       "    <tr>\n",
       "      <th>2010-03-25</th>\n",
       "      <td>68.3</td>\n",
       "      <td>69.00</td>\n",
       "      <td>67.55</td>\n",
       "      <td>68.25</td>\n",
       "      <td>68.310011</td>\n",
       "      <td>636580.0</td>\n",
       "      <td>2572.0</td>\n",
       "      <td>4.348479e+07</td>\n",
       "      <td>316290.0</td>\n",
       "      <td>49.69</td>\n",
       "      <td>1.45</td>\n",
       "      <td>-0.05</td>\n",
       "    </tr>\n",
       "  </tbody>\n",
       "</table>\n",
       "</div>"
      ],
      "text/plain": [
       "            Open   High    Low  Close        WAP  No. of Shares  \\\n",
       "Date                                                              \n",
       "2010-03-18  77.0  77.00  68.10  68.80  71.381343     28299084.0   \n",
       "2010-03-19  69.7  70.60  68.40  69.10  69.544990      4135689.0   \n",
       "2010-03-22  68.0  68.05  66.10  66.65  67.307760      1097433.0   \n",
       "2010-03-23  67.5  69.25  66.75  68.55  67.894429      1493862.0   \n",
       "2010-03-25  68.3  69.00  67.55  68.25  68.310011       636580.0   \n",
       "\n",
       "            No. of Trades  Total Turnover  Deliverable Quantity  \\\n",
       "Date                                                              \n",
       "2010-03-18        82679.0    2.020027e+09             5279146.0   \n",
       "2010-03-19        15920.0    2.876165e+08             1378581.0   \n",
       "2010-03-22         4629.0    7.386576e+07              563231.0   \n",
       "2010-03-23         4856.0    1.014249e+08              780051.0   \n",
       "2010-03-25         2572.0    4.348479e+07              316290.0   \n",
       "\n",
       "            % Deli. Qty to Traded Qty  Spread H-L  Spread C-O  \n",
       "Date                                                           \n",
       "2010-03-18                      18.65        8.90       -8.20  \n",
       "2010-03-19                      33.33        2.20       -0.60  \n",
       "2010-03-22                      51.32        1.95       -1.35  \n",
       "2010-03-23                      52.22        2.50        1.05  \n",
       "2010-03-25                      49.69        1.45       -0.05  "
      ]
     },
     "execution_count": 3,
     "metadata": {},
     "output_type": "execute_result"
    }
   ],
   "source": [
    "df.head()"
   ]
  },
  {
   "cell_type": "code",
   "execution_count": 4,
   "id": "f31fdc2c",
   "metadata": {},
   "outputs": [
    {
     "data": {
      "text/html": [
       "<div>\n",
       "<style scoped>\n",
       "    .dataframe tbody tr th:only-of-type {\n",
       "        vertical-align: middle;\n",
       "    }\n",
       "\n",
       "    .dataframe tbody tr th {\n",
       "        vertical-align: top;\n",
       "    }\n",
       "\n",
       "    .dataframe thead th {\n",
       "        text-align: right;\n",
       "    }\n",
       "</style>\n",
       "<table border=\"1\" class=\"dataframe\">\n",
       "  <thead>\n",
       "    <tr style=\"text-align: right;\">\n",
       "      <th></th>\n",
       "      <th>Open</th>\n",
       "      <th>High</th>\n",
       "      <th>Low</th>\n",
       "      <th>Close</th>\n",
       "      <th>WAP</th>\n",
       "      <th>No. of Shares</th>\n",
       "      <th>No. of Trades</th>\n",
       "      <th>Total Turnover</th>\n",
       "      <th>Deliverable Quantity</th>\n",
       "      <th>% Deli. Qty to Traded Qty</th>\n",
       "      <th>Spread H-L</th>\n",
       "      <th>Spread C-O</th>\n",
       "    </tr>\n",
       "    <tr>\n",
       "      <th>Date</th>\n",
       "      <th></th>\n",
       "      <th></th>\n",
       "      <th></th>\n",
       "      <th></th>\n",
       "      <th></th>\n",
       "      <th></th>\n",
       "      <th></th>\n",
       "      <th></th>\n",
       "      <th></th>\n",
       "      <th></th>\n",
       "      <th></th>\n",
       "      <th></th>\n",
       "    </tr>\n",
       "  </thead>\n",
       "  <tbody>\n",
       "    <tr>\n",
       "      <th>2020-03-16</th>\n",
       "      <td>4.81</td>\n",
       "      <td>4.88</td>\n",
       "      <td>4.55</td>\n",
       "      <td>4.66</td>\n",
       "      <td>4.70</td>\n",
       "      <td>95396.0</td>\n",
       "      <td>199.0</td>\n",
       "      <td>448478.0</td>\n",
       "      <td>71454.0</td>\n",
       "      <td>74.90</td>\n",
       "      <td>0.33</td>\n",
       "      <td>-0.15</td>\n",
       "    </tr>\n",
       "    <tr>\n",
       "      <th>2020-03-17</th>\n",
       "      <td>4.65</td>\n",
       "      <td>4.86</td>\n",
       "      <td>4.61</td>\n",
       "      <td>4.64</td>\n",
       "      <td>4.70</td>\n",
       "      <td>101580.0</td>\n",
       "      <td>216.0</td>\n",
       "      <td>477066.0</td>\n",
       "      <td>59949.0</td>\n",
       "      <td>59.02</td>\n",
       "      <td>0.25</td>\n",
       "      <td>-0.01</td>\n",
       "    </tr>\n",
       "    <tr>\n",
       "      <th>2020-03-18</th>\n",
       "      <td>4.74</td>\n",
       "      <td>4.75</td>\n",
       "      <td>4.39</td>\n",
       "      <td>4.43</td>\n",
       "      <td>4.52</td>\n",
       "      <td>70379.0</td>\n",
       "      <td>181.0</td>\n",
       "      <td>317957.0</td>\n",
       "      <td>41391.0</td>\n",
       "      <td>58.81</td>\n",
       "      <td>0.36</td>\n",
       "      <td>-0.31</td>\n",
       "    </tr>\n",
       "    <tr>\n",
       "      <th>2020-03-19</th>\n",
       "      <td>4.55</td>\n",
       "      <td>4.67</td>\n",
       "      <td>4.15</td>\n",
       "      <td>4.50</td>\n",
       "      <td>4.43</td>\n",
       "      <td>65020.0</td>\n",
       "      <td>157.0</td>\n",
       "      <td>287846.0</td>\n",
       "      <td>52240.0</td>\n",
       "      <td>80.34</td>\n",
       "      <td>0.52</td>\n",
       "      <td>-0.05</td>\n",
       "    </tr>\n",
       "    <tr>\n",
       "      <th>2020-03-20</th>\n",
       "      <td>4.50</td>\n",
       "      <td>4.70</td>\n",
       "      <td>4.45</td>\n",
       "      <td>4.48</td>\n",
       "      <td>4.54</td>\n",
       "      <td>36365.0</td>\n",
       "      <td>138.0</td>\n",
       "      <td>164933.0</td>\n",
       "      <td>23399.0</td>\n",
       "      <td>64.34</td>\n",
       "      <td>0.25</td>\n",
       "      <td>-0.02</td>\n",
       "    </tr>\n",
       "  </tbody>\n",
       "</table>\n",
       "</div>"
      ],
      "text/plain": [
       "            Open  High   Low  Close   WAP  No. of Shares  No. of Trades  \\\n",
       "Date                                                                      \n",
       "2020-03-16  4.81  4.88  4.55   4.66  4.70        95396.0          199.0   \n",
       "2020-03-17  4.65  4.86  4.61   4.64  4.70       101580.0          216.0   \n",
       "2020-03-18  4.74  4.75  4.39   4.43  4.52        70379.0          181.0   \n",
       "2020-03-19  4.55  4.67  4.15   4.50  4.43        65020.0          157.0   \n",
       "2020-03-20  4.50  4.70  4.45   4.48  4.54        36365.0          138.0   \n",
       "\n",
       "            Total Turnover  Deliverable Quantity  % Deli. Qty to Traded Qty  \\\n",
       "Date                                                                          \n",
       "2020-03-16        448478.0               71454.0                      74.90   \n",
       "2020-03-17        477066.0               59949.0                      59.02   \n",
       "2020-03-18        317957.0               41391.0                      58.81   \n",
       "2020-03-19        287846.0               52240.0                      80.34   \n",
       "2020-03-20        164933.0               23399.0                      64.34   \n",
       "\n",
       "            Spread H-L  Spread C-O  \n",
       "Date                                \n",
       "2020-03-16        0.33       -0.15  \n",
       "2020-03-17        0.25       -0.01  \n",
       "2020-03-18        0.36       -0.31  \n",
       "2020-03-19        0.52       -0.05  \n",
       "2020-03-20        0.25       -0.02  "
      ]
     },
     "execution_count": 4,
     "metadata": {},
     "output_type": "execute_result"
    }
   ],
   "source": [
    "df.tail()"
   ]
  },
  {
   "cell_type": "code",
   "execution_count": 5,
   "id": "05a1eb5c",
   "metadata": {},
   "outputs": [
    {
     "data": {
      "text/plain": [
       "(2484, 12)"
      ]
     },
     "execution_count": 5,
     "metadata": {},
     "output_type": "execute_result"
    }
   ],
   "source": [
    "df.shape"
   ]
  },
  {
   "cell_type": "code",
   "execution_count": 6,
   "id": "59ee4ed2",
   "metadata": {},
   "outputs": [
    {
     "data": {
      "text/html": [
       "<div>\n",
       "<style scoped>\n",
       "    .dataframe tbody tr th:only-of-type {\n",
       "        vertical-align: middle;\n",
       "    }\n",
       "\n",
       "    .dataframe tbody tr th {\n",
       "        vertical-align: top;\n",
       "    }\n",
       "\n",
       "    .dataframe thead th {\n",
       "        text-align: right;\n",
       "    }\n",
       "</style>\n",
       "<table border=\"1\" class=\"dataframe\">\n",
       "  <thead>\n",
       "    <tr style=\"text-align: right;\">\n",
       "      <th></th>\n",
       "      <th>Open</th>\n",
       "      <th>High</th>\n",
       "      <th>Low</th>\n",
       "      <th>Close</th>\n",
       "      <th>WAP</th>\n",
       "      <th>No. of Shares</th>\n",
       "      <th>No. of Trades</th>\n",
       "      <th>Total Turnover</th>\n",
       "      <th>Deliverable Quantity</th>\n",
       "      <th>% Deli. Qty to Traded Qty</th>\n",
       "      <th>Spread H-L</th>\n",
       "      <th>Spread C-O</th>\n",
       "    </tr>\n",
       "    <tr>\n",
       "      <th>Date</th>\n",
       "      <th></th>\n",
       "      <th></th>\n",
       "      <th></th>\n",
       "      <th></th>\n",
       "      <th></th>\n",
       "      <th></th>\n",
       "      <th></th>\n",
       "      <th></th>\n",
       "      <th></th>\n",
       "      <th></th>\n",
       "      <th></th>\n",
       "      <th></th>\n",
       "    </tr>\n",
       "  </thead>\n",
       "  <tbody>\n",
       "  </tbody>\n",
       "</table>\n",
       "</div>"
      ],
      "text/plain": [
       "Empty DataFrame\n",
       "Columns: [Open, High, Low, Close, WAP, No. of Shares, No. of Trades, Total Turnover, Deliverable Quantity, % Deli. Qty to Traded Qty, Spread H-L, Spread C-O]\n",
       "Index: []"
      ]
     },
     "execution_count": 6,
     "metadata": {},
     "output_type": "execute_result"
    }
   ],
   "source": [
    "duplicated_values=df[df.duplicated()] #checks if there are duplicate rows\n",
    "duplicated_values\n",
    "#no duplicate values"
   ]
  },
  {
   "cell_type": "code",
   "execution_count": 7,
   "id": "dab11d38",
   "metadata": {},
   "outputs": [
    {
     "name": "stdout",
     "output_type": "stream",
     "text": [
      "<class 'pandas.core.frame.DataFrame'>\n",
      "DatetimeIndex: 2484 entries, 2010-03-18 to 2020-03-20\n",
      "Data columns (total 12 columns):\n",
      " #   Column                     Non-Null Count  Dtype  \n",
      "---  ------                     --------------  -----  \n",
      " 0   Open                       2484 non-null   float64\n",
      " 1   High                       2484 non-null   float64\n",
      " 2   Low                        2484 non-null   float64\n",
      " 3   Close                      2484 non-null   float64\n",
      " 4   WAP                        2484 non-null   float64\n",
      " 5   No. of Shares              2484 non-null   float64\n",
      " 6   No. of Trades              2484 non-null   float64\n",
      " 7   Total Turnover             2484 non-null   float64\n",
      " 8   Deliverable Quantity       2483 non-null   float64\n",
      " 9   % Deli. Qty to Traded Qty  2483 non-null   float64\n",
      " 10  Spread H-L                 2484 non-null   float64\n",
      " 11  Spread C-O                 2484 non-null   float64\n",
      "dtypes: float64(12)\n",
      "memory usage: 252.3 KB\n"
     ]
    }
   ],
   "source": [
    "df.info()\n",
    "#the quality of data is good"
   ]
  },
  {
   "cell_type": "code",
   "execution_count": 8,
   "id": "28198241",
   "metadata": {},
   "outputs": [],
   "source": [
    "df=df[[\"Open\",\"High\",\"Low\",\"Close\",\"No. of Trades\"]] #choosing the columns required for regression"
   ]
  },
  {
   "cell_type": "code",
   "execution_count": 9,
   "id": "2b69a95d",
   "metadata": {},
   "outputs": [],
   "source": [
    "df[\"HL\"]=df[\"High\"]-df[\"Close\"]/df[\"Close\"]*100 # High-low price percentage"
   ]
  },
  {
   "cell_type": "code",
   "execution_count": 10,
   "id": "2947ee38",
   "metadata": {},
   "outputs": [],
   "source": [
    "df[\"PCT\"]=df[\"Close\"]-df[\"Open\"]/df[\"Open\"]*100 # Daily percentage change "
   ]
  },
  {
   "cell_type": "code",
   "execution_count": 11,
   "id": "f0e59339",
   "metadata": {},
   "outputs": [],
   "source": [
    "df=df[[\"Close\",\"HL\",\"PCT\",\"No. of Trades\"]] "
   ]
  },
  {
   "cell_type": "code",
   "execution_count": 12,
   "id": "70e4b11c",
   "metadata": {},
   "outputs": [
    {
     "data": {
      "text/html": [
       "<div>\n",
       "<style scoped>\n",
       "    .dataframe tbody tr th:only-of-type {\n",
       "        vertical-align: middle;\n",
       "    }\n",
       "\n",
       "    .dataframe tbody tr th {\n",
       "        vertical-align: top;\n",
       "    }\n",
       "\n",
       "    .dataframe thead th {\n",
       "        text-align: right;\n",
       "    }\n",
       "</style>\n",
       "<table border=\"1\" class=\"dataframe\">\n",
       "  <thead>\n",
       "    <tr style=\"text-align: right;\">\n",
       "      <th></th>\n",
       "      <th>Close</th>\n",
       "      <th>HL</th>\n",
       "      <th>PCT</th>\n",
       "      <th>No. of Trades</th>\n",
       "    </tr>\n",
       "    <tr>\n",
       "      <th>Date</th>\n",
       "      <th></th>\n",
       "      <th></th>\n",
       "      <th></th>\n",
       "      <th></th>\n",
       "    </tr>\n",
       "  </thead>\n",
       "  <tbody>\n",
       "    <tr>\n",
       "      <th>2010-03-18</th>\n",
       "      <td>68.80</td>\n",
       "      <td>-23.00</td>\n",
       "      <td>-31.20</td>\n",
       "      <td>82679.0</td>\n",
       "    </tr>\n",
       "    <tr>\n",
       "      <th>2010-03-19</th>\n",
       "      <td>69.10</td>\n",
       "      <td>-29.40</td>\n",
       "      <td>-30.90</td>\n",
       "      <td>15920.0</td>\n",
       "    </tr>\n",
       "    <tr>\n",
       "      <th>2010-03-22</th>\n",
       "      <td>66.65</td>\n",
       "      <td>-31.95</td>\n",
       "      <td>-33.35</td>\n",
       "      <td>4629.0</td>\n",
       "    </tr>\n",
       "    <tr>\n",
       "      <th>2010-03-23</th>\n",
       "      <td>68.55</td>\n",
       "      <td>-30.75</td>\n",
       "      <td>-31.45</td>\n",
       "      <td>4856.0</td>\n",
       "    </tr>\n",
       "    <tr>\n",
       "      <th>2010-03-25</th>\n",
       "      <td>68.25</td>\n",
       "      <td>-31.00</td>\n",
       "      <td>-31.75</td>\n",
       "      <td>2572.0</td>\n",
       "    </tr>\n",
       "  </tbody>\n",
       "</table>\n",
       "</div>"
      ],
      "text/plain": [
       "            Close     HL    PCT  No. of Trades\n",
       "Date                                          \n",
       "2010-03-18  68.80 -23.00 -31.20        82679.0\n",
       "2010-03-19  69.10 -29.40 -30.90        15920.0\n",
       "2010-03-22  66.65 -31.95 -33.35         4629.0\n",
       "2010-03-23  68.55 -30.75 -31.45         4856.0\n",
       "2010-03-25  68.25 -31.00 -31.75         2572.0"
      ]
     },
     "execution_count": 12,
     "metadata": {},
     "output_type": "execute_result"
    }
   ],
   "source": [
    "df.head()"
   ]
  },
  {
   "cell_type": "code",
   "execution_count": 13,
   "id": "42a301ba",
   "metadata": {},
   "outputs": [],
   "source": [
    "forecast_col=\"Close\" "
   ]
  },
  {
   "cell_type": "code",
   "execution_count": 14,
   "id": "62bec75b",
   "metadata": {},
   "outputs": [],
   "source": [
    "df.fillna(-99999,inplace=True) #filling the empty rows, a large value like -9999 would act like outliers, ML cannot have NaN entries"
   ]
  },
  {
   "cell_type": "code",
   "execution_count": 15,
   "id": "858f65e6",
   "metadata": {},
   "outputs": [],
   "source": [
    "forecast_out=int(math.ceil(0.1*len(df))) #predict 10% closing price or predict next day's stock price"
   ]
  },
  {
   "cell_type": "code",
   "execution_count": 16,
   "id": "4eea2564",
   "metadata": {},
   "outputs": [],
   "source": [
    "df[\"label\"]=df[forecast_col].shift(-forecast_out) #label column I want to have predicted values in"
   ]
  },
  {
   "cell_type": "code",
   "execution_count": 17,
   "id": "1e5eff88",
   "metadata": {},
   "outputs": [
    {
     "data": {
      "text/html": [
       "<div>\n",
       "<style scoped>\n",
       "    .dataframe tbody tr th:only-of-type {\n",
       "        vertical-align: middle;\n",
       "    }\n",
       "\n",
       "    .dataframe tbody tr th {\n",
       "        vertical-align: top;\n",
       "    }\n",
       "\n",
       "    .dataframe thead th {\n",
       "        text-align: right;\n",
       "    }\n",
       "</style>\n",
       "<table border=\"1\" class=\"dataframe\">\n",
       "  <thead>\n",
       "    <tr style=\"text-align: right;\">\n",
       "      <th></th>\n",
       "      <th>Close</th>\n",
       "      <th>HL</th>\n",
       "      <th>PCT</th>\n",
       "      <th>No. of Trades</th>\n",
       "      <th>label</th>\n",
       "    </tr>\n",
       "    <tr>\n",
       "      <th>Date</th>\n",
       "      <th></th>\n",
       "      <th></th>\n",
       "      <th></th>\n",
       "      <th></th>\n",
       "      <th></th>\n",
       "    </tr>\n",
       "  </thead>\n",
       "  <tbody>\n",
       "    <tr>\n",
       "      <th>2020-03-16</th>\n",
       "      <td>4.66</td>\n",
       "      <td>-95.12</td>\n",
       "      <td>-95.34</td>\n",
       "      <td>199.0</td>\n",
       "      <td>NaN</td>\n",
       "    </tr>\n",
       "    <tr>\n",
       "      <th>2020-03-17</th>\n",
       "      <td>4.64</td>\n",
       "      <td>-95.14</td>\n",
       "      <td>-95.36</td>\n",
       "      <td>216.0</td>\n",
       "      <td>NaN</td>\n",
       "    </tr>\n",
       "    <tr>\n",
       "      <th>2020-03-18</th>\n",
       "      <td>4.43</td>\n",
       "      <td>-95.25</td>\n",
       "      <td>-95.57</td>\n",
       "      <td>181.0</td>\n",
       "      <td>NaN</td>\n",
       "    </tr>\n",
       "    <tr>\n",
       "      <th>2020-03-19</th>\n",
       "      <td>4.50</td>\n",
       "      <td>-95.33</td>\n",
       "      <td>-95.50</td>\n",
       "      <td>157.0</td>\n",
       "      <td>NaN</td>\n",
       "    </tr>\n",
       "    <tr>\n",
       "      <th>2020-03-20</th>\n",
       "      <td>4.48</td>\n",
       "      <td>-95.30</td>\n",
       "      <td>-95.52</td>\n",
       "      <td>138.0</td>\n",
       "      <td>NaN</td>\n",
       "    </tr>\n",
       "  </tbody>\n",
       "</table>\n",
       "</div>"
      ],
      "text/plain": [
       "            Close     HL    PCT  No. of Trades  label\n",
       "Date                                                 \n",
       "2020-03-16   4.66 -95.12 -95.34          199.0    NaN\n",
       "2020-03-17   4.64 -95.14 -95.36          216.0    NaN\n",
       "2020-03-18   4.43 -95.25 -95.57          181.0    NaN\n",
       "2020-03-19   4.50 -95.33 -95.50          157.0    NaN\n",
       "2020-03-20   4.48 -95.30 -95.52          138.0    NaN"
      ]
     },
     "execution_count": 17,
     "metadata": {},
     "output_type": "execute_result"
    }
   ],
   "source": [
    "df.tail()"
   ]
  },
  {
   "cell_type": "code",
   "execution_count": 18,
   "id": "6287718c",
   "metadata": {},
   "outputs": [],
   "source": [
    "#train and test\n",
    "import numpy as np\n",
    "from sklearn import preprocessing, model_selection,svm \n",
    "from sklearn.linear_model import LinearRegression"
   ]
  },
  {
   "cell_type": "code",
   "execution_count": 19,
   "id": "1dc31d17",
   "metadata": {},
   "outputs": [
    {
     "name": "stdout",
     "output_type": "stream",
     "text": [
      "2235 2235\n"
     ]
    },
    {
     "name": "stderr",
     "output_type": "stream",
     "text": [
      "/tmp/ipykernel_5765/2512237755.py:1: FutureWarning: In a future version of pandas all arguments of DataFrame.drop except for the argument 'labels' will be keyword-only.\n",
      "  X=np.array(df.drop(['label'],1)) #feature is everything but label, data reuired to predict label\n"
     ]
    }
   ],
   "source": [
    "X=np.array(df.drop(['label'],1)) #feature is everything but label, data reuired to predict label\n",
    "X=preprocessing.scale(X) #time-consuming, avoid in high-frequency trading\n",
    "\n",
    "X=X[:-forecast_out]\n",
    "X_lately = X[-forecast_out:]\n",
    "\n",
    "df.dropna(inplace=True)\n",
    "y=np.array(df['label']) #label column\n",
    "print(len(X),len(y))\n",
    "\n"
   ]
  },
  {
   "cell_type": "code",
   "execution_count": 20,
   "id": "9c4d5b68",
   "metadata": {},
   "outputs": [],
   "source": [
    "X_train, X_test, y_train, y_test = model_selection.train_test_split(X,y,test_size=0.2)#20% data to test\n",
    "clf=LinearRegression()\n",
    "\n",
    "\n",
    "#clf=LinearRegression(n_jobs=-1)   #parallel processing with as many cores available \n",
    "#clf=svm.SVR()                    #Alternate algorithm, change kernel for higher accuracy"
   ]
  },
  {
   "cell_type": "code",
   "execution_count": 21,
   "id": "9e81517d",
   "metadata": {},
   "outputs": [
    {
     "name": "stdout",
     "output_type": "stream",
     "text": [
      "0.6863235247322876\n"
     ]
    }
   ],
   "source": [
    "clf.fit(X_train, y_train)\n",
    "accuracy=clf.score(X_test,y_test)\n",
    "print(accuracy)\n",
    "\n",
    "#with open ('linearregression.pickle','wb') as f:\n",
    "#    pickle.dump(clf,f)\n",
    "\n",
    "#pickle_in=open('linearregression.pickle','rb')\n",
    "#clf = pickle.load(pickle_in)"
   ]
  },
  {
   "cell_type": "code",
   "execution_count": 29,
   "id": "09c949bf",
   "metadata": {},
   "outputs": [],
   "source": [
    "forecast_set=clf.predict(X_lately) \n"
   ]
  },
  {
   "cell_type": "code",
   "execution_count": 30,
   "id": "e1b11a09",
   "metadata": {},
   "outputs": [
    {
     "name": "stdout",
     "output_type": "stream",
     "text": [
      "[13.40788279 14.60126719 16.13684729 14.72975566 14.15378768 13.80515582\n",
      " 13.89898979 13.63590563 13.68853849 13.45046024 13.59470219 14.04571547\n",
      " 14.11076972 14.24384828 14.05234963 14.24421331 14.16906364 14.04305457\n",
      " 13.9824237  13.87897915 13.8754278  13.7642953  13.69157888 13.65231905\n",
      " 13.59825972 13.79959605 13.75919564 13.53470238 13.55407951 13.6802097\n",
      " 13.57355448 13.42508311 13.42190297 13.45692336 13.43716106 13.41197299\n",
      " 13.33519929 13.2812249  13.16953071 13.09632904 12.65756649 12.41087081\n",
      " 12.46699352 12.48642399 12.40885711 12.38060509 12.55676589 12.46271871\n",
      " 12.5497382  12.90862022 13.10399031 12.94005676 12.90061209 12.6800824\n",
      " 12.40845304 12.37243189 12.56785739 12.62367898 13.06190285 13.07381554\n",
      " 13.02616697 12.94902734 12.93653647 12.81939503 12.74456207 12.74737503\n",
      " 12.69006869 12.52745152 12.55639816 12.44441466 12.40125939 12.17187675\n",
      " 12.07827723 12.23944598 12.5486012  12.2974173  12.50976092 12.30161898\n",
      " 12.35414146 12.74386397 12.72135485 12.54076233 12.54274049 12.38076872\n",
      " 12.32007412 12.44547048 12.30069699 12.29193032 12.28081778 12.23414965\n",
      " 12.33755607 12.38096448 12.4850172  12.55003493 13.03230608 12.80705177\n",
      " 12.79510004 12.63675966 12.65886515 12.74014414 12.59758889 12.57149897\n",
      " 13.16076854 12.89032451 12.68228174 12.72868035 12.55955888 12.69576272\n",
      " 12.68599126 12.64014325 12.54739867 12.53610415 12.6006412  12.48267221\n",
      " 12.48659021 13.71029429 13.18751529 13.21175182 12.95383027 12.56048955\n",
      " 12.72223342 12.70185571 12.72141679 12.76688616 12.61531127 12.60491439\n",
      " 12.62685151 13.17716864 12.77332038 12.42582947 12.27989123 12.19902937\n",
      " 12.245811   12.06812696 11.91448655 11.89090436 11.98869499 11.89652847\n",
      " 11.71505918 11.53723596 11.56440173 11.50433891 11.46368715 11.50163345\n",
      " 11.45610142 11.70659668 11.5879814  11.56409684 11.46685152 11.43823886\n",
      " 11.46467671 11.4054614  11.41302081 11.72243007 12.43262122 12.59763715\n",
      " 12.29376374 12.41286168 12.38538313 12.51370631 12.56319285 12.99870671\n",
      " 13.0427905  13.40642105 12.60808997 12.56541959 12.49928213 12.69364995\n",
      " 12.431497   12.34586927 12.2728434  12.23945233 12.24143684 12.0558903\n",
      " 11.95505461 12.02699997 12.01082607 11.94706645 11.82280252 11.7806822\n",
      " 11.60486988 11.6597873  11.80713457 12.1594814  12.13171642 12.33824721\n",
      " 12.22783655 12.23867491 12.46955153 12.71037175 12.73736145 12.44102837\n",
      " 12.35695442 12.8172948  13.89774433 13.3905129  13.85451376 13.44522945\n",
      " 13.05807329 13.14652015 13.1275589  13.02108548 12.82341069 12.84158619\n",
      " 12.80948519 12.68703454 12.66141135 14.32986897 13.35280613 13.08157268\n",
      " 12.81803882 12.83685882 12.8214943  12.81303726 12.60924406 12.55043462\n",
      " 12.54872687 12.57073408 12.55279794 12.6212913  12.42679522 12.15797882\n",
      " 11.91681972 11.90810336 11.74523941 11.84098528 11.72448833 11.69637542\n",
      " 11.70456751 11.60844738 11.59420061 11.7180432  11.66783285 12.21277997\n",
      " 12.17229263 11.95127044 11.88704176 11.84624634 11.89834264 12.10179462\n",
      " 12.29147596 12.38443009 12.65474479 12.66076044 12.44401678 12.47007599\n",
      " 12.35800405 12.29208232 12.13949701] 0.6863235247322876 249\n"
     ]
    }
   ],
   "source": [
    "print(forecast_set, accuracy, forecast_out)"
   ]
  },
  {
   "cell_type": "code",
   "execution_count": 24,
   "id": "48c8e431",
   "metadata": {},
   "outputs": [],
   "source": [
    "df['Forecast']=np.nan "
   ]
  },
  {
   "cell_type": "code",
   "execution_count": 25,
   "id": "70e4ada7",
   "metadata": {},
   "outputs": [],
   "source": [
    "last_date=df.iloc[-1].name\n",
    "last_unix=last_date.timestamp()\n",
    "one_day=86400\n",
    "next_unix=last_unix+one_day"
   ]
  },
  {
   "cell_type": "code",
   "execution_count": 26,
   "id": "81f0b2bf",
   "metadata": {},
   "outputs": [],
   "source": [
    "\n",
    "for i in forecast_set:\n",
    "    next_date=datetime.datetime.fromtimestamp(next_unix) \n",
    "    next_unix+=one_day\n",
    "    df.loc[next_date]=[np.nan for _ in range(len(df.columns)-1)] +[i]"
   ]
  },
  {
   "cell_type": "code",
   "execution_count": 32,
   "id": "6fa27ac8",
   "metadata": {},
   "outputs": [
    {
     "data": {
      "text/plain": [
       "Text(0, 0.5, 'Price')"
      ]
     },
     "execution_count": 32,
     "metadata": {},
     "output_type": "execute_result"
    },
    {
     "data": {
      "image/png": "[encoded data removed]",
      "text/plain": [
       "<Figure size 640x480 with 1 Axes>"
      ]
     },
     "metadata": {},
     "output_type": "display_data"
    }
   ],
   "source": [
    "df['Close'].plot()\n",
    "df['Forecast'].plot()\n",
    "plt.legend(loc=1)\n",
    "plt.xlabel('Date')\n",
    "plt.ylabel('Price')"
   ]
  }
 ],
 "metadata": {
  "kernelspec": {
   "display_name": "Python 3 (ipykernel)",
   "language": "python",
   "name": "python3"
  },
  "language_info": {
   "codemirror_mode": {
    "name": "ipython",
    "version": 3
   },
   "file_extension": ".py",
   "mimetype": "text/x-python",
   "name": "python",
   "nbconvert_exporter": "python",
   "pygments_lexer": "ipython3",
   "version": "3.9.12"
  }
 },
 "nbformat": 4,
 "nbformat_minor": 5
}
